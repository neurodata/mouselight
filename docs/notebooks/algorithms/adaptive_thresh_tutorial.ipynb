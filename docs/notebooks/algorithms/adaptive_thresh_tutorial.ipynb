{
 "cells": [
  {
   "cell_type": "markdown",
   "metadata": {},
   "source": [
    "# Adaptive Neuron Thresholding\n",
    "\n",
    "## Load data from AWS\n",
    "Data is downloaded via cloud-volume. Here, we select the first segment from the 7th brain segment. The downloaded iamge is of 132x100x52 voxel volume."
   ]
  },
  {
   "cell_type": "code",
   "execution_count": null,
   "metadata": {},
   "outputs": [],
   "source": [
    "import brainlit\n",
    "from brainlit.utils.session import NeuroglancerSession\n",
    "import matplotlib.pyplot as plt\n",
    "import SimpleITK as sitk\n",
    "import numpy as np\n",
    "import napari\n",
    "from napari.utils import nbscreenshot\n",
    "%gui qt"
   ]
  },
  {
   "cell_type": "code",
   "execution_count": null,
   "metadata": {},
   "outputs": [],
   "source": [
    "import time\n",
    "time.sleep(2)"
   ]
  },
  {
   "cell_type": "code",
   "execution_count": null,
   "metadata": {},
   "outputs": [],
   "source": [
    "url = \"s3://open-neurodata/brainlit/brain1\"\n",
    "ngl = NeuroglancerSession(url, mip=1)\n",
    "img, bounds, voxel = ngl.pull_chunk(7, 1)"
   ]
  },
  {
   "cell_type": "markdown",
   "metadata": {},
   "source": [
    "Let's take a look at the downloaded volume. Napari will open in a new window."
   ]
  },
  {
   "cell_type": "code",
   "execution_count": null,
   "metadata": {},
   "outputs": [],
   "source": [
    "#viewer = napari.Viewer(ndisplay=3)\n",
    "#viewer.add_image(img)\n",
    "#nbscreenshot(viewer)"
   ]
  },
  {
   "cell_type": "markdown",
   "metadata": {},
   "source": [
    "## Generate Segmentations\n",
    "Next, we will generate segmentations using the following algorithms: \\ Gaussian Mixture Model Thresholding \\ Otsu\\ Connected Threshold\\ Confidence-Connected Threshold\\ Neighborhood-Connected Threshold\\ Level-Set Segmentation\\ Fast-Marching Segmentation\n",
    "\n",
    "The segmentations from the functions are output as numpy arrays, so segmentation results can easily be displayed locally and are compatible with Neuroglancer.\n",
    "\n",
    "To start, we'll import adaptive_thresh to access the segmentation algorithms and convert the cloudvolume volume of the brain to a SimpleITK image format for segmentation."
   ]
  },
  {
   "cell_type": "code",
   "execution_count": null,
   "metadata": {},
   "outputs": [],
   "source": [
    "#from brainlit.algorithms.generate_fragments import adaptive_thresh\n",
    "#img_T1, img_T1_255 = adaptive_thresh.get_img_T1(img)\n",
    "#seed = (21,76,33)\n",
    "# numpy and sitk has different order of reading x,y, and z coordinates\n",
    "#numpy_seed, sitk_seed = adaptive_thresh.get_seed(seed)"
   ]
  },
  {
   "cell_type": "markdown",
   "metadata": {},
   "source": [
    "## Gaussian Mixture Model Thresholding\n",
    "In this algorithm, a 2-component Gaussian mixture model is trained on the volume. Since neurons have higher voxel intensities in the Mouselight data than the background intensity, we threshold the entire volume by the least intensity in the component containing the highest intensity."
   ]
  },
  {
   "cell_type": "code",
   "execution_count": null,
   "metadata": {},
   "outputs": [],
   "source": [
    "#labels = adaptive_thresh.gmm_seg(img,numpy_seed)\n",
    "#label_img = sitk.GetImageFromArray(labels, isVector=False)\n",
    "#viewer = napari.Viewer(ndisplay=3)\n",
    "#viewer.add_image(img)\n",
    "#viewer.add_labels(sitk.GetArrayFromImage(label_img))\n",
    "#nbscreenshot(viewer)"
   ]
  },
  {
   "cell_type": "markdown",
   "metadata": {},
   "source": [
    "## Otsu's Method\n",
    "Otsu's method thresholds the volume into two classes (segments) by maximizing inter-class variance."
   ]
  },
  {
   "cell_type": "code",
   "execution_count": null,
   "metadata": {},
   "outputs": [],
   "source": [
    "#labels = adaptive_thresh.otsu(img,numpy_seed)\n",
    "#label_img = sitk.GetImageFromArray(labels, isVector=False)\n",
    "#viewer = napari.Viewer(ndisplay=3)\n",
    "#viewer.add_image(img)\n",
    "#viewer.add_labels(sitk.GetArrayFromImage(label_img))\n",
    "#nbscreenshot(viewer)"
   ]
  },
  {
   "cell_type": "markdown",
   "metadata": {},
   "source": [
    "## Region growing methods\n",
    "Region growing methods iteratively examine pixels neighboring seed points, and determine if these neighboring pixels should be added to a region. Three such methods are available: \\ In closed-connected thresholding, pixels in a region are connected to a seed and lie within a range of values. Here, the lower threshold is automatically calculated based on the Gaussian Mixture model thresholding above. \\ In neighborhood-connected thrsholding, pixels in a region are connected to a seed and lie within a neighborhood. Again, the lower threshold is automatically calculated based on the Gaussian Mixture model thresholding above.\\ In confidence-connected thresholding, pixels in a region have intensities consistent with a seed point; the pixel intensities lie within a confidence interval such that they are within some \"multiplier\" number of standard deviations from the mean of the neighborhood of the seed point. In this example, the multiplier is set to 1. If multiple iterations are used, the mean and standard deviation are calculated again at each iteration using pixels in the previous segmentation.\n",
    "\n",
    "In each of these methods, binary morphological closing is used to connect separate segments of the neuron / fill holes after the algorithm has run."
   ]
  },
  {
   "cell_type": "code",
   "execution_count": null,
   "metadata": {},
   "outputs": [],
   "source": [
    "#labels = adaptive_thresh.connected_threshold(img, [sitk_seed])\n",
    "#label_img = sitk.GetImageFromArray(labels, isVector=False)\n",
    "#viewer = napari.Viewer(ndisplay=3)\n",
    "#viewer.add_image(img)\n",
    "#viewer.add_labels(sitk.GetArrayFromImage(label_img))\n",
    "#nbscreenshot(viewer)"
   ]
  },
  {
   "cell_type": "code",
   "execution_count": null,
   "metadata": {},
   "outputs": [],
   "source": [
    "#labels = adaptive_thresh.neighborhood_connected_threshold(img, [sitk_seed])\n",
    "#label_img = sitk.GetImageFromArray(labels, isVector=False)\n",
    "#viewer = napari.Viewer(ndisplay=3)\n",
    "#viewer.add_image(img)\n",
    "#viewer.add_labels(sitk.GetArrayFromImage(label_img))\n",
    "#nbscreenshot(viewer)"
   ]
  },
  {
   "cell_type": "code",
   "execution_count": null,
   "metadata": {},
   "outputs": [],
   "source": [
    "#labels = adaptive_thresh.confidence_connected_threshold(img, [sitk_seed], num_iter=1, multiplier=1)\n",
    "#label_img = sitk.GetImageFromArray(labels, isVector=False)\n",
    "#viewer = napari.Viewer(ndisplay=3)\n",
    "#viewer.add_image(img)\n",
    "#viewer.add_labels(sitk.GetArrayFromImage(label_img))\n",
    "#nbscreenshot(viewer)"
   ]
  },
  {
   "cell_type": "markdown",
   "metadata": {},
   "source": [
    "Since this thresholding doesn't appear to segment the image, we'll try again with a larger multiplier, 5 times the value previously used."
   ]
  },
  {
   "cell_type": "code",
   "execution_count": null,
   "metadata": {},
   "outputs": [],
   "source": [
    "#labels = adaptive_thresh.confidence_connected_threshold(img, [sitk_seed], num_iter=1, multiplier=5)\n",
    "#label_img = sitk.GetImageFromArray(labels, isVector=False)\n",
    "#viewer = napari.Viewer(ndisplay=3)\n",
    "#viewer.add_image(img)\n",
    "#viewer.add_labels(sitk.GetArrayFromImage(label_img))\n",
    "#nbscreenshot(viewer)"
   ]
  },
  {
   "cell_type": "markdown",
   "metadata": {},
   "source": [
    "## Level-set segmentation\n",
    "The level set method segments an image based on its contours. The main idea is to begin with a region based on an initial contour, and expand the region outward until edges are reached. When root mean squared change in the level set function for an iteration is below a threshold, or the maximum number of iteration have elapsed, the algorithm is said to have converged. Lower and upper thresholds may be set to the mean of the image minus or plus its standard deviation times some factor (15 here), if the thresholds are not set explicitly."
   ]
  },
  {
   "cell_type": "code",
   "execution_count": null,
   "metadata": {},
   "outputs": [],
   "source": [
    "#labels = adaptive_thresh.level_set_seg(img, sitk_seed, factor = 15)\n",
    "#label_img = sitk.GetImageFromArray(labels, isVector=False)\n",
    "#viewer = napari.Viewer(ndisplay=3)\n",
    "#viewer.add_image(img)\n",
    "#viewer.add_labels(sitk.GetArrayFromImage(label_img))\n",
    "#nbscreenshot(viewer)"
   ]
  },
  {
   "cell_type": "markdown",
   "metadata": {},
   "source": [
    "## Fast-marching segmentation\n",
    "The fast marching method is another form of level-set segmentation. Only a positive speed term is used to govern the differential equation in the method."
   ]
  },
  {
   "cell_type": "code",
   "execution_count": null,
   "metadata": {},
   "outputs": [],
   "source": [
    "#labels = adaptive_thresh.fast_marching_seg(img, sitk_seed)\n",
    "#label_img = sitk.GetImageFromArray(labels, isVector=False)\n",
    "#viewer = napari.Viewer(ndisplay=3)\n",
    "#viewer.add_image(img)\n",
    "#viewer.add_labels(sitk.GetArrayFromImage(label_img))\n",
    "#nbscreenshot(viewer)"
   ]
  },
  {
   "cell_type": "markdown",
   "metadata": {},
   "source": [
    "## Napari to view segmentations\n",
    "We can also view the segmentations in 3D using Napari."
   ]
  },
  {
   "cell_type": "code",
   "execution_count": null,
   "metadata": {},
   "outputs": [],
   "source": [
    "#%gui qt\n",
    "#labels = adaptive_thresh.confidence_connected_threshold(img, [sitk_seed], num_iter=1, multiplier=5)\n",
    "#viewer = napari.Viewer(ndisplay=3)\n",
    "#viewer.add_image(img)\n",
    "#viewer.add_labels(labels)\n",
    "#nbscreenshot(viewer)"
   ]
  },
  {
   "cell_type": "code",
   "execution_count": null,
   "metadata": {},
   "outputs": [],
   "source": []
  }
 ],
 "metadata": {
  "kernelspec": {
   "display_name": "Python 3",
   "language": "python",
   "name": "python3"
  },
  "language_info": {
   "codemirror_mode": {
    "name": "ipython",
    "version": 3
   },
   "file_extension": ".py",
   "mimetype": "text/x-python",
   "name": "python",
   "nbconvert_exporter": "python",
   "pygments_lexer": "ipython3",
   "version": "3.8.5"
  }
 },
 "nbformat": 4,
 "nbformat_minor": 2
}